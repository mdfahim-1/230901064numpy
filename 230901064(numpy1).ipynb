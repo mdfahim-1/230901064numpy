{
 "cells": [
  {
   "cell_type": "code",
   "execution_count": 28,
   "id": "e5ca186e-415a-461a-919e-d7e2b6fb99e8",
   "metadata": {},
   "outputs": [
    {
     "name": "stdout",
     "output_type": "stream",
     "text": [
      "One Dimensional array :  [1 2 3]\n",
      "\n",
      "No of dimensions : 1\n"
     ]
    }
   ],
   "source": [
    "import numpy as np\n",
    "a=np.array([1,2,3])\n",
    "print(\"One Dimensional array : \",a)\n",
    "print(\"\\nNo of dimensions :\",a.ndim)"
   ]
  },
  {
   "cell_type": "code",
   "execution_count": 6,
   "id": "5205a55c-4548-4f01-8268-7f1992c4c5c8",
   "metadata": {},
   "outputs": [
    {
     "name": "stdout",
     "output_type": "stream",
     "text": [
      "Two Dimensional array :  [[1 2 3]\n",
      " [4 5 6]]\n"
     ]
    }
   ],
   "source": [
    "import numpy as np\n",
    "a=np.array([[1,2,3],[4,5,6]])\n",
    "print(\"Two Dimensional array : \",a)"
   ]
  },
  {
   "cell_type": "code",
   "execution_count": 29,
   "id": "90f99463-1802-400c-b0bb-7879c1971b01",
   "metadata": {
    "tags": []
   },
   "outputs": [
    {
     "name": "stdout",
     "output_type": "stream",
     "text": [
      "Three Dimensional array :  [[1 2 3]\n",
      " [4 5 6]\n",
      " [7 8 9]]\n",
      "\n",
      "No of dimensions : 2\n"
     ]
    }
   ],
   "source": [
    "import numpy as np\n",
    "a=np.array([[1,2,3],[4,5,6],[7,8,9]])\n",
    "print(\"Three Dimensional array : \",a)\n",
    "print(\"\\nNo of dimensions :\",a.ndim)"
   ]
  },
  {
   "cell_type": "code",
   "execution_count": 11,
   "id": "f6aaeccf-9fe2-4c41-a150-7000e2bfd9ca",
   "metadata": {},
   "outputs": [
    {
     "name": "stdout",
     "output_type": "stream",
     "text": [
      "ZEROS MATRIX : [[0. 0. 0. 0. 0.]\n",
      " [0. 0. 0. 0. 0.]\n",
      " [0. 0. 0. 0. 0.]]\n"
     ]
    }
   ],
   "source": [
    "import numpy as np\n",
    "a=np.zeros((3,5))\n",
    "print(\"ZEROS MATRIX :\",a)"
   ]
  },
  {
   "cell_type": "code",
   "execution_count": 14,
   "id": "9794b945-9be5-4461-ab42-3ffa0f89fd5a",
   "metadata": {},
   "outputs": [
    {
     "name": "stdout",
     "output_type": "stream",
     "text": [
      "Random value: \n",
      " [[0.44519656 0.44088845 0.03715937 0.60511578 0.10370066]\n",
      " [0.39513352 0.48434404 0.13831316 0.18555707 0.62768693]\n",
      " [0.39908599 0.64140616 0.29095872 0.33931064 0.7599975 ]]\n"
     ]
    }
   ],
   "source": [
    "import numpy as np\n",
    "a=np.random.random((3,5))\n",
    "print(\"Random value: \\n\",a)"
   ]
  },
  {
   "cell_type": "code",
   "execution_count": 15,
   "id": "f23583cc-0a9e-497c-b2c5-92f94280d822",
   "metadata": {},
   "outputs": [
    {
     "name": "stdout",
     "output_type": "stream",
     "text": [
      "Sequence Matrix  : \n",
      " [ 8 11 14 17 20 23 26]\n"
     ]
    }
   ],
   "source": [
    "import numpy as np\n",
    "a=np.arange(8,29,3)\n",
    "print(\"Sequence Matrix  : \\n\",a)"
   ]
  },
  {
   "cell_type": "code",
   "execution_count": 25,
   "id": "dfecb49b-5140-4d97-ae9b-bfabec2dd810",
   "metadata": {},
   "outputs": [
    {
     "name": "stdout",
     "output_type": "stream",
     "text": [
      "Original Array :\n",
      " [[ 1  2  3  4]\n",
      " [ 5  6  7  8]\n",
      " [ 9 10 11 12]]\n",
      "\n",
      "Reshaped Array :\n",
      " [[ 1  2  3]\n",
      " [ 4  5  6]\n",
      " [ 7  8  9]\n",
      " [10 11 12]]\n"
     ]
    }
   ],
   "source": [
    "import numpy as np\n",
    "a=np.array([[1,2,3,4],[5,6,7,8],[9,10,11,12]])\n",
    "newarr=a.reshape(4,3)\n",
    "print(\"Original Array :\\n\",a)\n",
    "print(\"\\nReshaped Array :\\n\",newarr)"
   ]
  },
  {
   "cell_type": "code",
   "execution_count": 31,
   "id": "91331f3a-a7f2-4b80-9395-d813fbf9cc8c",
   "metadata": {},
   "outputs": [
    {
     "name": "stdout",
     "output_type": "stream",
     "text": [
      "Original array :\n",
      " [[ 1  2  3  4]\n",
      " [ 5  6  7  8]\n",
      " [ 9 10 11 12]]\n",
      "\n",
      "Flatten array :\n",
      " [ 1  2  3  4  5  6  7  8  9 10 11 12]\n",
      "\n",
      "No of dimensions : 2\n"
     ]
    }
   ],
   "source": [
    "import numpy as np\n",
    "arr=np.array([[1,2,3,4],[5,6,7,8],[9,10,11,12]])\n",
    "flat=arr.flatten()\n",
    "print(\"Original array :\\n\",arr)\n",
    "print(\"\\nFlatten array :\\n\",flat)\n",
    "print(\"\\nNo of dimensions :\",arr.ndim)"
   ]
  },
  {
   "cell_type": "code",
   "execution_count": 48,
   "id": "46479717-4f02-4b3a-8488-937813a38e1a",
   "metadata": {},
   "outputs": [
    {
     "name": "stdout",
     "output_type": "stream",
     "text": [
      "\n",
      "No of dimensions : 3\n",
      "Shape of array :\n",
      " (2, 2, 3)\n",
      "Length of array : 2\n"
     ]
    }
   ],
   "source": [
    "import numpy as np\n",
    "arr=np.array([[[1,2,3],[4,5,6]],[[7,8,9],[10,11,12]]])\n",
    "print(\"\\nNo of dimensions :\",arr.ndim)\n",
    "print(\"Shape of array :\\n\",arr.shape)\n",
    "print(\"Length of array :\",len(arr))"
   ]
  },
  {
   "cell_type": "code",
   "execution_count": null,
   "id": "b2701864-2c30-4eb2-b1c0-3d7de8fbd006",
   "metadata": {},
   "outputs": [],
   "source": []
  },
  {
   "cell_type": "code",
   "execution_count": 47,
   "id": "87758727-3166-454c-9657-e06be7a07078",
   "metadata": {},
   "outputs": [
    {
     "name": "stdout",
     "output_type": "stream",
     "text": [
      "Shape of array : (3, 4)\n",
      "Type of array :  int64\n",
      "Length of array : 3\n"
     ]
    }
   ],
   "source": [
    "import numpy as np\n",
    "arr=np.array([[1,2,3,4],[5,6,7,8],[9,10,11,12]])\n",
    "print(\"Shape of array :\",arr.shape)\n",
    "print(\"Type of array : \",arr.dtype)\n",
    "print(\"Length of array :\",len(arr))"
   ]
  },
  {
   "cell_type": "code",
   "execution_count": 1,
   "id": "6d01d9a7-4a9d-4f66-ad02-55b068bf239c",
   "metadata": {},
   "outputs": [
    {
     "name": "stdout",
     "output_type": "stream",
     "text": [
      "[1. 2. 3.]\n",
      "float64\n"
     ]
    }
   ],
   "source": [
    "import numpy as np\n",
    "a=[1,2,3]\n",
    "a=np.array(a)\n",
    "newtype=a.astype('float64')\n",
    "print(newtype)\n",
    "print(newtype.dtype )"
   ]
  },
  {
   "cell_type": "code",
   "execution_count": 3,
   "id": "cdd240d9-5a39-44b1-acde-5a6bb97cf7ef",
   "metadata": {},
   "outputs": [
    {
     "name": "stdout",
     "output_type": "stream",
     "text": [
      "[3 4 5 6]\n"
     ]
    }
   ],
   "source": [
    "import numpy as np\n",
    "arr=np.array([1,2,3,4,5,6,7,8,9])\n",
    "slice1=arr[2:6]\n",
    "print(slice1)"
   ]
  },
  {
   "cell_type": "code",
   "execution_count": null,
   "id": "99d15dba-92ac-4a6c-bba0-d9a670fd7a64",
   "metadata": {},
   "outputs": [],
   "source": []
  }
 ],
 "metadata": {
  "kernelspec": {
   "display_name": "Python 3 (ipykernel)",
   "language": "python",
   "name": "python3"
  },
  "language_info": {
   "codemirror_mode": {
    "name": "ipython",
    "version": 3
   },
   "file_extension": ".py",
   "mimetype": "text/x-python",
   "name": "python",
   "nbconvert_exporter": "python",
   "pygments_lexer": "ipython3",
   "version": "3.12.7"
  }
 },
 "nbformat": 4,
 "nbformat_minor": 5
}
