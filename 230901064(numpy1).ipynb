{
 "cells": [
  {
   "cell_type": "code",
   "execution_count": 39,
   "id": "41086db5-0893-44b0-b1c7-f71f5e805138",
   "metadata": {},
   "outputs": [
    {
     "name": "stdout",
     "output_type": "stream",
     "text": [
      "[3 4 5 6]\n",
      "[1 3 5 7 9]\n",
      "[1 4 7]\n"
     ]
    }
   ],
   "source": [
    "import numpy as np\n",
    "arr=np.array([1,2,3,4,5,6,7,8,9])\n",
    "slice1=arr[2:6]\n",
    "slice2=arr[::2]\n",
    "slice3=arr[::3]\n",
    "print(slice1)\n",
    "print(slice2)\n",
    "print(slice3)"
   ]
  },
  {
   "cell_type": "code",
   "execution_count": 10,
   "id": "3583cffe-f8fb-4134-a28d-683501a68eaa",
   "metadata": {},
   "outputs": [
    {
     "name": "stdout",
     "output_type": "stream",
     "text": [
      "[9 8 7 6 5 4 3 2 1]\n"
     ]
    }
   ],
   "source": [
    "reversedarray=arr[::-1]\n",
    "print(reversedarray)"
   ]
  },
  {
   "cell_type": "code",
   "execution_count": 29,
   "id": "0e0bf418-b2a4-4ed0-9437-8236877493da",
   "metadata": {},
   "outputs": [
    {
     "name": "stdout",
     "output_type": "stream",
     "text": [
      "slicing:\n",
      " [[2 3]\n",
      " [5 6]]\n",
      "Column slicing :\n",
      " [1 4 7]\n"
     ]
    }
   ],
   "source": [
    "arr=np.array([[1,2,3],[4,5,6],[7,8,9]])\n",
    "substring=arr[0:2,1:3]\n",
    "print(\"slicing:\\n\",substring)\n",
    "col1=arr[:,0]\n",
    "print(\"Column slicing :\\n\",col1)"
   ]
  },
  {
   "cell_type": "code",
   "execution_count": 24,
   "id": "40615bd4-0bd2-4722-b511-633fb267100b",
   "metadata": {},
   "outputs": [
    {
     "name": "stdout",
     "output_type": "stream",
     "text": [
      "[[1 3]\n",
      " [4 6]]\n"
     ]
    }
   ],
   "source": [
    "arr=np.array([[1,2,3,10],[4,5,6,20],[7,8,9,30]])\n",
    "substring=arr[0:2,0:3:2]\n",
    "print(substring)"
   ]
  },
  {
   "cell_type": "code",
   "execution_count": 19,
   "id": "864aab25-8e31-4187-a88f-92653b54e175",
   "metadata": {},
   "outputs": [
    {
     "name": "stdout",
     "output_type": "stream",
     "text": [
      "[[1 3]\n",
      " [7 9]]\n"
     ]
    }
   ],
   "source": [
    "substring=arr[0:3:2,0:3:2]\n",
    "print(substring)"
   ]
  },
  {
   "cell_type": "code",
   "execution_count": 30,
   "id": "2ff839c8-18b5-439a-a9cb-11ed87c1b31b",
   "metadata": {},
   "outputs": [
    {
     "name": "stdout",
     "output_type": "stream",
     "text": [
      "slicing:\n",
      " [[2 3]\n",
      " [5 6]]\n",
      "Column slicing :\n",
      " [1 4 7]\n"
     ]
    }
   ],
   "source": [
    "arr=np.array([[1,2,3],[4,5,6],[7,8,9]])\n",
    "substring=arr[0:2,1:3]\n",
    "print(\"slicing:\\n\",substring)\n",
    "col1=arr[:,0]\n",
    "print(\"Column slicing :\\n\",col1)"
   ]
  },
  {
   "cell_type": "code",
   "execution_count": 32,
   "id": "1cab2cee-8712-489a-8ab6-c357e2f06546",
   "metadata": {},
   "outputs": [
    {
     "name": "stdout",
     "output_type": "stream",
     "text": [
      "Row slicing:\n",
      " [1 2 3]\n"
     ]
    }
   ],
   "source": [
    "row1=arr[0,:]\n",
    "print(\"Row slicing:\\n\",row1)"
   ]
  },
  {
   "cell_type": "code",
   "execution_count": 35,
   "id": "92db6742-50a3-4353-b0f4-b6c397c7ffe4",
   "metadata": {},
   "outputs": [
    {
     "name": "stdout",
     "output_type": "stream",
     "text": [
      "[[1 2 3]\n",
      " [4 5 6]]\n"
     ]
    }
   ],
   "source": [
    "print(arr[0:2:1])"
   ]
  },
  {
   "cell_type": "code",
   "execution_count": 36,
   "id": "14849930-1b29-4edc-be42-32ef1b97bdf8",
   "metadata": {},
   "outputs": [
    {
     "name": "stdout",
     "output_type": "stream",
     "text": [
      "10\n",
      "40\n"
     ]
    }
   ],
   "source": [
    "import numpy as np\n",
    "import array\n",
    "arr=array.array('i',[10,20,30,40,50])\n",
    "print(arr[0])\n",
    "print(arr[3])"
   ]
  },
  {
   "cell_type": "code",
   "execution_count": 48,
   "id": "a9b87213-8436-41ae-a60c-0c062c62d2c2",
   "metadata": {},
   "outputs": [
    {
     "name": "stdout",
     "output_type": "stream",
     "text": [
      "1\n"
     ]
    }
   ],
   "source": [
    "arr=np.array([[1,2,3],[4,5,6],[7,8,9]])\n",
    "print(arr[0,0])"
   ]
  },
  {
   "cell_type": "code",
   "execution_count": 44,
   "id": "1e110a1c-2489-4984-9304-28bd1d917d04",
   "metadata": {},
   "outputs": [
    {
     "name": "stdout",
     "output_type": "stream",
     "text": [
      "8\n"
     ]
    }
   ],
   "source": [
    "print(arr[2,1])"
   ]
  },
  {
   "cell_type": "code",
   "execution_count": 47,
   "id": "e7f269fe-1379-49eb-b6d7-6f6bce496a74",
   "metadata": {},
   "outputs": [
    {
     "name": "stdout",
     "output_type": "stream",
     "text": [
      "6\n"
     ]
    }
   ],
   "source": [
    "print(arr[1,2])"
   ]
  },
  {
   "cell_type": "code",
   "execution_count": 52,
   "id": "2c06162b-f4cb-486f-a60c-bed0575aae80",
   "metadata": {},
   "outputs": [
    {
     "name": "stdout",
     "output_type": "stream",
     "text": [
      "20\n"
     ]
    }
   ],
   "source": [
    "arr=[10,20,30,40,50,60]\n",
    "print(arr[1])"
   ]
  },
  {
   "cell_type": "code",
   "execution_count": 53,
   "id": "8f75695e-bdcf-4c8a-8250-58f7c60d2ea9",
   "metadata": {},
   "outputs": [
    {
     "name": "stdout",
     "output_type": "stream",
     "text": [
      "60\n"
     ]
    }
   ],
   "source": [
    "print(arr[-1])"
   ]
  },
  {
   "cell_type": "code",
   "execution_count": 54,
   "id": "d5435cb3-e406-44a2-9ea0-c86930e206a4",
   "metadata": {},
   "outputs": [
    {
     "name": "stdout",
     "output_type": "stream",
     "text": [
      "[20, 30, 40]\n"
     ]
    }
   ],
   "source": [
    "print(arr[1:4])"
   ]
  },
  {
   "cell_type": "code",
   "execution_count": 60,
   "id": "60e2d6ae-8239-414b-9954-a9dbe6ab73b2",
   "metadata": {},
   "outputs": [
    {
     "name": "stdout",
     "output_type": "stream",
     "text": [
      "[30 40 50 60]\n"
     ]
    }
   ],
   "source": [
    "import numpy as np\n",
    "arr=np.array([10,20,30,40,50,60])\n",
    "print(arr[arr>25])"
   ]
  },
  {
   "cell_type": "code",
   "execution_count": 63,
   "id": "71a82335-c8c1-4b5e-8256-4a24d57637c8",
   "metadata": {},
   "outputs": [
    {
     "name": "stdout",
     "output_type": "stream",
     "text": [
      "[20 30]\n"
     ]
    }
   ],
   "source": [
    "import numpy as np\n",
    "arr=np.array([10,20,30,40,50,60])\n",
    "print(arr[1:3])"
   ]
  },
  {
   "cell_type": "code",
   "execution_count": 5,
   "id": "35ea0c97-7a9b-4bc8-b69f-d1e1a61e690c",
   "metadata": {},
   "outputs": [
    {
     "name": "stdout",
     "output_type": "stream",
     "text": [
      "[[1 2 5 6]\n",
      " [3 4 7 8]]\n"
     ]
    }
   ],
   "source": [
    "#HORIZONTALJOINT\n",
    "import numpy as np\n",
    "arr1=np.array([[1,2],[3,4]])\n",
    "arr2=np.array([[5,6],[7,8]])\n",
    "result=np.hstack((arr1,arr2))\n",
    "print(result)"
   ]
  },
  {
   "cell_type": "code",
   "execution_count": 2,
   "id": "faa9480b-7a8b-49c8-9330-e466ba36eebe",
   "metadata": {},
   "outputs": [
    {
     "name": "stdout",
     "output_type": "stream",
     "text": [
      "[[1 2]\n",
      " [3 4]\n",
      " [5 6]\n",
      " [7 8]]\n"
     ]
    }
   ],
   "source": [
    "#VERTICALJOIN\n",
    "result=np.vstack((arr1,arr2))\n",
    "print(result)"
   ]
  },
  {
   "cell_type": "code",
   "execution_count": 4,
   "id": "80bcd6f3-e930-4762-afd3-bf232d9be386",
   "metadata": {},
   "outputs": [
    {
     "name": "stdout",
     "output_type": "stream",
     "text": [
      "[[[1 5]\n",
      "  [2 6]]\n",
      "\n",
      " [[3 7]\n",
      "  [4 8]]]\n"
     ]
    }
   ],
   "source": [
    "#DEPTHJOIN\n",
    "result=np.dstack((arr1,arr2))\n",
    "print(result)"
   ]
  },
  {
   "cell_type": "code",
   "execution_count": 13,
   "id": "cb8af28d-d134-4726-bae9-5ea76b8343f3",
   "metadata": {},
   "outputs": [
    {
     "name": "stdout",
     "output_type": "stream",
     "text": [
      "[array([1, 2]), array([3, 4]), array([5, 6])]\n"
     ]
    }
   ],
   "source": [
    "import numpy as np\n",
    "arr=np.array([1,2,3,4,5,6])\n",
    "result=np.split(arr,3)\n",
    "print(result)"
   ]
  },
  {
   "cell_type": "code",
   "execution_count": 15,
   "id": "47e6d78d-e45e-4f27-b122-31d76ff372ed",
   "metadata": {},
   "outputs": [
    {
     "name": "stdout",
     "output_type": "stream",
     "text": [
      "[array([1, 2]), array([3, 4]), array([5])]\n"
     ]
    }
   ],
   "source": [
    "import numpy as np\n",
    "arr=np.array([1,2,3,4,5])\n",
    "result=np.array_split(arr,3)\n",
    "print(result)"
   ]
  },
  {
   "cell_type": "code",
   "execution_count": null,
   "id": "9be29fb2-842a-494f-b8d0-0006941fcf46",
   "metadata": {},
   "outputs": [],
   "source": []
  }
 ],
 "metadata": {
  "kernelspec": {
   "display_name": "Python 3 (ipykernel)",
   "language": "python",
   "name": "python3"
  },
  "language_info": {
   "codemirror_mode": {
    "name": "ipython",
    "version": 3
   },
   "file_extension": ".py",
   "mimetype": "text/x-python",
   "name": "python",
   "nbconvert_exporter": "python",
   "pygments_lexer": "ipython3",
   "version": "3.12.7"
  }
 },
 "nbformat": 4,
 "nbformat_minor": 5
}
