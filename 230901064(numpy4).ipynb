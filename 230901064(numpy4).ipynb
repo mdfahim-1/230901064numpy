{
 "cells": [
  {
   "cell_type": "code",
   "execution_count": 3,
   "id": "ea14a214-5abe-46e6-a148-ac9e7010873b",
   "metadata": {},
   "outputs": [
    {
     "name": "stdout",
     "output_type": "stream",
     "text": [
      "[[20 40 50 70 10]]\n",
      "[[6 2 9 7 1]]\n",
      "[[26 42 59 77 11]]\n",
      "[[14 38 41 63  9]]\n",
      "[[120  80 450 490  10]]\n",
      "[[ 3.33333333 20.          5.55555556 10.         10.        ]]\n"
     ]
    }
   ],
   "source": [
    "#Vector operation\n",
    "import numpy as np\n",
    "arr1=[20,40,50,70,10]\n",
    "arr2=[6,2,9,7,1]\n",
    "a=np.array([arr1])\n",
    "b=np.array([arr2])\n",
    "print(a)\n",
    "print(b)\n",
    "print(a+b)\n",
    "print(a-b)\n",
    "print(a*b)\n",
    "print(a/b)"
   ]
  },
  {
   "cell_type": "code",
   "execution_count": 17,
   "id": "be407b61-d26e-49a1-ab52-57bf414f857f",
   "metadata": {},
   "outputs": [
    {
     "name": "stdout",
     "output_type": "stream",
     "text": [
      "1190\n",
      "Scalar value :  3\n",
      "Array :  [20 40 50 70 10]\n",
      "Result :  [ 60 120 150 210  30]\n"
     ]
    }
   ],
   "source": [
    "import numpy as np\n",
    "a=np.array([20,40,50,70,10])\n",
    "b=np.array([6,2,7,9,1])\n",
    "print(a.dot(b))\n",
    "sclr=3\n",
    "print(\"Scalar value : \",sclr)\n",
    "print(\"Array : \",a)\n",
    "print(\"Result : \",a*sclr)"
   ]
  },
  {
   "cell_type": "code",
   "execution_count": 16,
   "id": "92879a17-20d3-43f6-b82b-6264506854b4",
   "metadata": {},
   "outputs": [
    {
     "name": "stdout",
     "output_type": "stream",
     "text": [
      "[[1 6]\n",
      " [0 4]]\n"
     ]
    }
   ],
   "source": [
    "import numpy as np\n",
    "a=np.array([[10,20],[30,40]])\n",
    "b=np.array([[3,7],[5,9]])\n",
    "print(a%b)\n"
   ]
  },
  {
   "cell_type": "code",
   "execution_count": 21,
   "id": "d61b295b-b994-4683-bae5-6c4eca5e8bef",
   "metadata": {},
   "outputs": [
    {
     "name": "stdout",
     "output_type": "stream",
     "text": [
      "Array1 :  [10, 7, 2]\n",
      "Array2 : [6, 5, 3]\n",
      "Result : [4 2 5]\n"
     ]
    }
   ],
   "source": [
    "def my_func(x,y):\n",
    "    if x>y:\n",
    "        return x-y\n",
    "    else:\n",
    "        return x+y\n",
    "arr1=[10,7,2]\n",
    "arr2=[6,5,3]\n",
    "vect_func=np.vectorize(my_func)\n",
    "print(\"Array1 : \",arr1)\n",
    "print(\"Array2 :\",arr2)\n",
    "print(\"Result :\",vect_func(arr1,arr2))"
   ]
  },
  {
   "cell_type": "code",
   "execution_count": null,
   "id": "14cfe47e-98b0-44bd-bdb2-b3866072b715",
   "metadata": {},
   "outputs": [],
   "source": []
  }
 ],
 "metadata": {
  "kernelspec": {
   "display_name": "Python 3 (ipykernel)",
   "language": "python",
   "name": "python3"
  },
  "language_info": {
   "codemirror_mode": {
    "name": "ipython",
    "version": 3
   },
   "file_extension": ".py",
   "mimetype": "text/x-python",
   "name": "python",
   "nbconvert_exporter": "python",
   "pygments_lexer": "ipython3",
   "version": "3.12.7"
  }
 },
 "nbformat": 4,
 "nbformat_minor": 5
}
